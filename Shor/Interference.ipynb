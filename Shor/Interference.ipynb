{
 "cells": [
  {
   "cell_type": "code",
   "execution_count": 1,
   "metadata": {},
   "outputs": [
    {
     "name": "stdout",
     "output_type": "stream",
     "text": [
      "0 : (4+0j)\n",
      "1 : 0\n",
      "2 : 0\n",
      "3 : 0\n",
      "4 : (-5.757077917265737e-15+4j)\n",
      "5 : 0\n",
      "6 : 0\n",
      "7 : 0\n",
      "8 : (-4-1.1514155834531474e-14j)\n",
      "9 : 0\n",
      "10 : 0\n",
      "11 : 0\n",
      "12 : (2.2600304269997962e-14-4j)\n",
      "13 : 0\n",
      "14 : 0\n",
      "15 : (1.0436096431476471e-14+1.609823385706477e-15j)\n"
     ]
    }
   ],
   "source": [
    "import numpy as np\n",
    "\n",
    "coeff_list = []\n",
    "\n",
    "for y in range(16):\n",
    "    coeff = 0\n",
    "    coeff += np.exp(-np.pi * 1j * 3 * y / 8)\n",
    "    coeff += np.exp(-np.pi * 1j * 7 * y / 8)\n",
    "    coeff += np.exp(-np.pi * 1j * 11 * y / 8)\n",
    "    coeff += np.exp(-np.pi * 1j * 15 * y / 8)\n",
    "    \n",
    "    if np.abs(coeff.real) > 1e-14 or np.abs(coeff.imag) > 1e-14:\n",
    "        coeff_list.append(coeff)\n",
    "    else:\n",
    "        coeff_list.append(0)\n",
    "    \n",
    "for c in range(len(coeff_list)):\n",
    "    print(f'{c} : {coeff_list[c]}')"
   ]
  },
  {
   "cell_type": "code",
   "execution_count": null,
   "metadata": {},
   "outputs": [],
   "source": []
  },
  {
   "cell_type": "code",
   "execution_count": null,
   "metadata": {},
   "outputs": [],
   "source": []
  }
 ],
 "metadata": {
  "kernelspec": {
   "display_name": "Python 3",
   "language": "python",
   "name": "python3"
  },
  "language_info": {
   "codemirror_mode": {
    "name": "ipython",
    "version": 3
   },
   "file_extension": ".py",
   "mimetype": "text/x-python",
   "name": "python",
   "nbconvert_exporter": "python",
   "pygments_lexer": "ipython3",
   "version": "3.8.5"
  }
 },
 "nbformat": 4,
 "nbformat_minor": 4
}
