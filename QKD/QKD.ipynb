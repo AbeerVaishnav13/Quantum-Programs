{
 "cells": [
  {
   "cell_type": "markdown",
   "metadata": {},
   "source": [
    "# The BB84 QKD protocol\n",
    "Let's walk through the steps of the BB84 protocol:\n",
    "\n",
    "1. In the first step, Alice chooses two random bit strings, $k$ and $b$, that each consist of $n$ bits. Her bit string $k$ contains the actual bits she wants to encode (out of which the key will later be formed), while $b$ determines the bases in which she will encode her bits. For $b_i=0$ (i.e., if the $i^{th}$ bit is zero), she encodes the $i^{th}$ qubit in the standard $\\{|0\\rangle, |1\\rangle \\}$ basis, while for $b_i=1$, she encodes it in the $\\{|+\\rangle, |-\\rangle \\}$ basis, where $|+\\rangle:=\\frac{1}{\\sqrt{2}}(|0\\rangle +|1\\rangle)$, $|-\\rangle:=\\frac{1}{\\sqrt{2}}(|0\\rangle -|1\\rangle)$. This becomes more illustrative when representing each basis by two perpendicular arrows, where the two different bases are rotated by $45^\\circ$. The encoding of each qubit $q_i$ would therefore look like the following:\n",
    "\n",
    "<img align=\"center\" width=300 src=\"./QKD-images/encoding_Alice.png\">\n",
    "\n",
    "2. After encoding her $n$ qubits, Alice sends these qubits to Bob. Bob also chooses a random bit string $\\tilde{b}$ consisting of $n$ bits that determines in which bases he is going to perform measurements. He stores the outcomes of his measurements $\\tilde{k_i}$ together with the corresponding basis bits $\\tilde{b_i}$ in a table.\n",
    "\n",
    "3. Next, Alice and Bob compare their basis bits $b_i$ and $\\tilde{b}_i$. Whenever $b_i \\neq \\tilde{b}_i$, Bob measured in a different basis than Alice's qubit was encoded in, so he gets each outcome with probability $\\frac{1}{2}$. Alice and Bob therefore discard all key bits corresponding to these basis bits. If $b_i = \\tilde{b}_i$, however, they prepared and measured the qubit in the same basis, so (unless someone eavesdropped) Bob will get the key bit that Alice encoded, $\\tilde{k}_i = k_i$. These outcomes then compose the key.\n",
    "\n",
    "## An illustrated example\n",
    "Suppose Alice's random bit strings are $k=`0111001`$ and $b=`1101000`$ and Bob's random bit string is $\\tilde{b}=`1001101`$. Try to understand the other entries in the table below. Note that in the case where the basis bits are different, Bob has a 50% chance to get each outcome, so here one of them was chosen randomly.\n",
    "\n",
    "<img src=\"./QKD-images/example_bb84.png\" width=500 align=\"center\">\n",
    "\n",
    "The key produced in this example would be '0110'. To make sure that the key is secret and correct, Alice and Bob would \"sacrifice\" some of their key bits to check that no one eavesdropped. If someone had measured a qubit on the way, this could have changed the state of that qubit and with probability $\\frac{1}{4}$, Bob's and Alice's key bits will be different. By checking $m$ bits, the probability to not notice an eavesdropper decreases as $\\left(\\frac{3}{4}\\right)^m$. Thus, if they check enough bits and they are all the same, they can assume that no one eavesdropped and their key is secret. However, to keep things simple, we will not perfom these tests in this excercise. Instead, all bits of the key will be used.\n",
    "\n",
    "### Message encrpytion\n",
    "Once a secret key is distributed, Alice can encrypt her message by using the so-called one-time pad technique: she simply adds the key bits on top of her secret message bits that she wants to send. Using the example above, her key is $\\text{key}=`0110`$. If her secret message bit string is $m=`1100`$, the encrypted message will be $c=m\\oplus \\text{key} = `1010`$. Bob can then decrypt the message by adding his key on that encrypted message, $m=c\\oplus \\text{key}$."
   ]
  },
  {
   "cell_type": "markdown",
   "metadata": {},
   "source": [
    "# Let's see who's your teammate!"
   ]
  },
  {
   "cell_type": "code",
   "execution_count": 1,
   "metadata": {},
   "outputs": [],
   "source": [
    "import random\n",
    "from qiskit import *\n",
    "from Alice import *\n",
    "from Bob import *\n",
    "from resources.teams import *\n",
    "%matplotlib inline"
   ]
  },
  {
   "cell_type": "code",
   "execution_count": 2,
   "metadata": {},
   "outputs": [],
   "source": [
    "# Please enter your first name here to get to know your other team members\n",
    "# For \"Shivam Kumar\" and \"Shivam Shreyansh\", please enter your full name\n",
    "# There are total 6 teams with two members each (except one team as total 13 members are there in this internship)\n",
    "\n",
    "name = 'Abeer Vaishnav'\n",
    "who_are_my_other_team_members(name)"
   ]
  },
  {
   "cell_type": "markdown",
   "metadata": {},
   "source": [
    "## The challenge (READ THIS CAREFULLY)\n",
    "In the following exercise, you will be paired up with one of the people in the internship group to make up a team of 2 people! One of you plays the role of Alice and another person playes the role of Bob.\n",
    "\n",
    "1. For Alice, complete the function `alice_prepare_qubit()` in order to successfully encode the key given to you using Alice's random basis bits in the python file named `Alice.py`. Each quantum circuit named `this_qubit_circuit` in the Alice's python file should be a circuit containing a single qubit and should be returned from the function `alice_prepare_qubit()`.\n",
    "\n",
    "2. For Bob, complete the function `bob_measure_qubit()` (mentioned in `Bob.py`) in order to successfully measure the qubits sent by Alice in Bob's randomly generated basis bits (take care while implementing the measure functionality here!!).\n",
    "\n",
    "3. After writing both the aforementioned functions, come to this jupyter notebook again to obtain the key by comparing Alice and Bob's key bits in the function `create_shared_key()`.\n",
    "\n",
    "4. Transmit the Alice's message by converting the value stored in the variable named `alice_msg_to_bob` into appropriatte ciphertext (use the EXOR operation as discussed above to encrypt the message using the key). Use the `alice_send_message()` function.\n",
    "\n",
    "5. Decode the Alice's message by writing code for the function `bob_decrypt_message()`.\n",
    "\n",
    "6. **Additional twist:** The plaintext message is encoded in Morse Code which is converted to a binary representation according to the following convention:-\n",
    "\n",
    "| Morse Symbol | Binary value |\n",
    "|--------------|--------------|\n",
    "| Dot          | 1            |\n",
    "| Dash         | 11           |\n",
    "| Intra-character space | 0   |\n",
    "| Inter-character space | 00  |\n",
    "| Inter-word space      | 000 |\n",
    "\n",
    "### Example\n",
    "The phrase \"QISKIT CODE\" is encoded into Morse Code as: `--.-  ..  ...  -.-  ..  -      -.-.  ---  -..  .`\n",
    "\n",
    "Binary encoding of phrase \"QISKIT CODE\" in Morse Code: `1101101011001010010101001101011001010011000110101101001101101100110101001`"
   ]
  },
  {
   "cell_type": "markdown",
   "metadata": {},
   "source": [
    "## Step-1 & 2: Alice prepares the qubits and transmits. Bob measures the qubits."
   ]
  },
  {
   "cell_type": "code",
   "execution_count": 3,
   "metadata": {},
   "outputs": [
    {
     "name": "stdout",
     "output_type": "stream",
     "text": [
      "Bob's bases: 11000110011000000001100101110000111010011111111111110100000111010100100010011001001110100001010010111011010001011001111111011111\n",
      "Bob's bits: 11100100010001101001001000001111111110100100100100010010010001010100110010100100001111111110001010100010010001001010010010010010\n"
     ]
    }
   ],
   "source": [
    "# Seeding a constant value to get uniform key accross all the teams\n",
    "random.seed(84) # DO NOT CHNAGE THIS SEED IF YOU WANT TO COMPLETE THIS TASK XD\n",
    "\n",
    "num_qubits = 130\n",
    "bob_bases = str('{0:0100b}'.format(random.getrandbits(num_qubits)))\n",
    "\n",
    "def bb84():\n",
    "    print(\"Bob's bases:\", bob_bases)\n",
    "    \n",
    "    all_qubit_circuits = []\n",
    "\n",
    "    # now Alice sends her bits one by one\n",
    "    for qubit_index in range(num_qubits-2):\n",
    "\n",
    "        # Here Alice prepares the qubit\n",
    "        ## WRITE YOUR CODE HERE\n",
    "        this_qubit_circuit = alice_prepare_qubit(qubit_index)\n",
    "        ## WRITE YOUR CODE HERE\n",
    "\n",
    "        # Here Bob measures the Alice's qubit (Call the function for Bob to measure the qubits)\n",
    "        ## WRITE YOUR CODE HERE\n",
    "        bob_measure_qubit(bob_bases, qubit_index, this_qubit_circuit)\n",
    "        ## WRITE YOUR CODE HERE\n",
    "\n",
    "        # We collect all these qubits and put them in an array\n",
    "        all_qubit_circuits.append(this_qubit_circuit)\n",
    "\n",
    "    # Now execute all the circuits\n",
    "    sim = Aer.get_backend('qasm_simulator')\n",
    "    results = execute(all_qubit_circuits, backend=sim, shots=1).result()\n",
    "\n",
    "    # And combine the results\n",
    "    bits = ''\n",
    "    for qubit_index in range(num_qubits-2):\n",
    "        bits += [measurement for measurement in results.get_counts(qubit_index)][0]\n",
    "\n",
    "    return bits\n",
    "    \n",
    "bits = bb84()\n",
    "print(\"Bob's bits:\", bits)"
   ]
  },
  {
   "cell_type": "markdown",
   "metadata": {},
   "source": [
    "## Step-3: Create the shared key"
   ]
  },
  {
   "cell_type": "markdown",
   "metadata": {},
   "source": [
    "The bases chosen by Alice are stored in the variable`alice_bases` in the file `Alice.py`. Use that information to now. compare the Alice's and Bob's bases to make the secret key!"
   ]
  },
  {
   "cell_type": "code",
   "execution_count": 4,
   "metadata": {},
   "outputs": [
    {
     "name": "stdout",
     "output_type": "stream",
     "text": [
      "Alice's bases: 11000110011000100001100101110000111010011001111111110100010111010100000100011001101010100001010010101011010001011001110011111111\n",
      "Bob's bases: 11000110011000000001100101110000111010011111111111110100000111010100100010011001001110100001010010111011010001011001111111011111\n",
      "Shared key: 1110010001000101001001000001111111110100010010001001000001010100100100100011111111000101010010010001001010011010010\n"
     ]
    }
   ],
   "source": [
    "print(\"Alice's bases:\", alice_bases)\n",
    "print(\"Bob's bases:\", bob_bases)\n",
    "\n",
    "def create_shared_key(alice_bases, bob_bases, bits):\n",
    "    final_key = ''\n",
    "    # Compare Alice and Bob's bases bits and generate the key by comparing if they're equal or not\n",
    "    ## WRITE YOUR CODE HERE\n",
    "    for i in range(len(bits)):\n",
    "        if alice_bases[i] == bob_bases[i]:\n",
    "            final_key += bits[i]\n",
    "    ## WRITE YOUR CODE HERE\n",
    "    return final_key\n",
    "    \n",
    "key = create_shared_key(alice_bases, bob_bases, bits)\n",
    "print(\"Shared key:\", key)"
   ]
  },
  {
   "cell_type": "markdown",
   "metadata": {},
   "source": [
    "## Step-4: Transmit the message from Alice to Bob"
   ]
  },
  {
   "cell_type": "code",
   "execution_count": 5,
   "metadata": {},
   "outputs": [
    {
     "name": "stdout",
     "output_type": "stream",
     "text": [
      "11111000011111011011110010111010011001110100111111011011111100010010000110100110101110001011000101111111110001001\n"
     ]
    }
   ],
   "source": [
    "plaintext_msg = '1101101001011010010010110011000101101101100110110110011010101000110110100101011001101011011001010100110101101011011'\n",
    "\n",
    "def alice_send_message(message, key):\n",
    "    # Generate ciphertext using the plaintext_msg and key and performing the EXOR operation\n",
    "    ## WRITE YOUR CODE HERE\n",
    "    ciphertext = int(message,2) ^ int(key,2)\n",
    "    ## WRITE YOUR CODE HERE\n",
    "    \n",
    "    return \"{0:b}\".format(ciphertext)\n",
    "    \n",
    "sent_msg = alice_send_message(plaintext_msg, key)\n",
    "print(sent_msg)"
   ]
  },
  {
   "cell_type": "markdown",
   "metadata": {},
   "source": [
    "## Step-5: Bob receives and decodes Alice's message"
   ]
  },
  {
   "cell_type": "code",
   "execution_count": 6,
   "metadata": {},
   "outputs": [
    {
     "name": "stdout",
     "output_type": "stream",
     "text": [
      "1101101001011010010010110011000101101101100110110110011010101000110110100101011001101011011001010100110101101011011\n"
     ]
    }
   ],
   "source": [
    "def bob_decrypt_message(ciphertext, key):\n",
    "    # get back plaintext using the sent_msg and key and performing the EXOR operation\n",
    "    ## WRITE YOUR CODE HERE\n",
    "    plaintext = int(ciphertext,2) ^ int(key,2)\n",
    "    ## WRITE YOUR CODE HERE\n",
    "    \n",
    "    return \"{0:b}\".format(plaintext)\n",
    "\n",
    "received_msg = bob_decrypt_message(sent_msg, key)\n",
    "print(received_msg)"
   ]
  },
  {
   "cell_type": "markdown",
   "metadata": {},
   "source": [
    "## Step-6: Additional Twist: Convert the received message from Binary encoded Morse code to ASCII text"
   ]
  },
  {
   "cell_type": "code",
   "execution_count": 7,
   "metadata": {},
   "outputs": [
    {
     "name": "stdout",
     "output_type": "stream",
     "text": [
      "The message is: great job guys!\n"
     ]
    }
   ],
   "source": [
    "# Use the below dictionary to decode the message that is encoded as morse code in binary.\n",
    "MORSE_CODE_DICT = { 'a':'.-', 'b':'-...', \n",
    "                    'c':'-.-.', 'd':'-..', 'e':'.', \n",
    "                    'f':'..-.', 'g':'--.', 'h':'....', \n",
    "                    'i':'..', 'j':'.---', 'k':'-.-', \n",
    "                    'l':'.-..', 'm':'--', 'n':'-.', \n",
    "                    'o':'---', 'p':'.--.', 'q':'--.-', \n",
    "                    'r':'.-.', 's':'...', 't':'-', \n",
    "                    'u':'..-', 'v':'...-', 'w':'.--', \n",
    "                    'x':'-..-', 'y':'-.--', 'z':'--..', \n",
    "                    '1':'.----', '2':'..---', '3':'...--', \n",
    "                    '4':'....-', '5':'.....', '6':'-....', \n",
    "                    '7':'--...', '8':'---..', '9':'----.', \n",
    "                    '0':'-----', ', ':'--..--', '.':'.-.-.-', \n",
    "                    '?':'..--..', '/':'-..-.', '-':'-....-', \n",
    "                    '(':'-.--.', ')':'-.--.-', '!':'-.-.--'}\n",
    "\n",
    "MORSE_CODE_INV = {v: k for k, v in MORSE_CODE_DICT.items()} \n",
    "\n",
    "def convert_to_ascii_chars(received_msg):\n",
    "    ## WRITE YOUR CODE HERE\n",
    "    ascii_msg = ''\n",
    "    \n",
    "    msg_list = received_msg.split('0')\n",
    "    \n",
    "    i = 0\n",
    "    \n",
    "    while i < len(msg_list):\n",
    "        morse_str = ''\n",
    "        while i < len(msg_list) and msg_list[i] != '':\n",
    "            if msg_list[i] == '11':\n",
    "                morse_str += '-'\n",
    "            elif msg_list[i] == '1':\n",
    "                morse_str += '.'\n",
    "            i += 1\n",
    "            \n",
    "        if morse_str != '':\n",
    "            ascii_msg += MORSE_CODE_INV[morse_str]\n",
    "        else:\n",
    "            ascii_msg += ' '\n",
    "        i += 1\n",
    "                \n",
    "        \n",
    "    ## WRITE YOUR CODE HERE\n",
    "    return ascii_msg\n",
    "\n",
    "original_message = convert_to_ascii_chars(received_msg)\n",
    "print('The message is:', original_message)"
   ]
  },
  {
   "cell_type": "code",
   "execution_count": null,
   "metadata": {},
   "outputs": [],
   "source": []
  }
 ],
 "metadata": {
  "kernelspec": {
   "display_name": "Python 3",
   "language": "python",
   "name": "python3"
  },
  "language_info": {
   "codemirror_mode": {
    "name": "ipython",
    "version": 3
   },
   "file_extension": ".py",
   "mimetype": "text/x-python",
   "name": "python",
   "nbconvert_exporter": "python",
   "pygments_lexer": "ipython3",
   "version": "3.8.5"
  }
 },
 "nbformat": 4,
 "nbformat_minor": 4
}
